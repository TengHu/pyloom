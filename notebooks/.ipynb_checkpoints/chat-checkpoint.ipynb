{
 "cells": [
  {
   "cell_type": "code",
   "execution_count": 1,
   "metadata": {},
   "outputs": [],
   "source": [
    "import copy\n",
    "import inspect\n",
    "import json\n",
    "import os\n",
    "import pdb\n",
    "import re\n",
    "import sys\n",
    "from typing import List\n",
    "\n",
    "import openai\n",
    "\n",
    "sys.path.append('../')\n",
    "from pyloom import Thread, SnapshotOnEvent, event\n",
    "\n",
    "openai.api_key = os.getenv(\"OPENAI_API_KEY\")"
   ]
  },
  {
   "cell_type": "code",
   "execution_count": 4,
   "metadata": {},
   "outputs": [],
   "source": [
    "class ChatBot(Thread):\n",
    "    @event(\"Init\")\n",
    "    def __init__(self, system=\"\", model=\"gpt-3.5-turbo\"):\n",
    "        super().__init__()\n",
    "        self.system = system\n",
    "        self.messages = []\n",
    "        self.model = model\n",
    "\n",
    "        if self.system:\n",
    "            self.messages.append({\"role\": \"system\", \"content\": system})\n",
    "\n",
    "        self.total_tokens = SnapshotOnEvent(0)\n",
    "        self.messages = SnapshotOnEvent(self.messages)\n",
    "\n",
    "    @event(\"Call\")\n",
    "    def __call__(self, message):\n",
    "        self.messages.append({\"role\": \"user\", \"content\": message})\n",
    "        return self.complete()\n",
    "\n",
    "    @event(\"Complete\")\n",
    "    def complete(self):\n",
    "        completion = openai.ChatCompletion.create(\n",
    "            model=self.model,\n",
    "            messages=self.messages\n",
    "        )\n",
    "        content = completion.choices[0].message.content\n",
    "        self.total_tokens += completion.usage.total_tokens\n",
    "        self.messages.append({\"role\": \"assistant\", \"content\": content})\n",
    "        return content\n"
   ]
  },
  {
   "cell_type": "code",
   "execution_count": 5,
   "metadata": {},
   "outputs": [
    {
     "data": {
      "text/plain": [
       "'If you found 10 more apples in the orchard, then we now have a total of 20 + 10 = <<20+10=30>>30 apples.'"
      ]
     },
     "execution_count": 5,
     "metadata": {},
     "output_type": "execute_result"
    }
   ],
   "source": [
    "bot = ChatBot(\"We have 20 apples to start with.\")\n",
    "bot(\"I found 10 more apples in the orchard, how many apples do we have now?\")"
   ]
  },
  {
   "cell_type": "code",
   "execution_count": 12,
   "metadata": {},
   "outputs": [
    {
     "data": {
      "text/plain": [
       "[{'role': 'system', 'content': 'We have 20 apples to start with.'},\n",
       " {'role': 'user',\n",
       "  'content': 'I found 10 more apples in the orchard, how many apples do we have now?'},\n",
       " {'role': 'assistant',\n",
       "  'content': 'If you found 10 more apples in the orchard, then we now have a total of 20 + 10 = <<20+10=30>>30 apples.'}]"
      ]
     },
     "execution_count": 12,
     "metadata": {},
     "output_type": "execute_result"
    }
   ],
   "source": [
    "bot.forward()\n",
    "bot.messages"
   ]
  },
  {
   "cell_type": "code",
   "execution_count": 7,
   "metadata": {},
   "outputs": [
    {
     "name": "stdout",
     "output_type": "stream",
     "text": [
      "Local cdn resources have problems on chrome/safari when used in jupyter-notebook. \n"
     ]
    },
    {
     "data": {
      "text/html": [
       "\n",
       "        <iframe\n",
       "            width=\"100%\"\n",
       "            height=\"600px\"\n",
       "            src=\"nx.html\"\n",
       "            frameborder=\"0\"\n",
       "            allowfullscreen\n",
       "            \n",
       "        ></iframe>\n",
       "        "
      ],
      "text/plain": [
       "<IPython.lib.display.IFrame at 0x10ea023a0>"
      ]
     },
     "execution_count": 7,
     "metadata": {},
     "output_type": "execute_result"
    }
   ],
   "source": [
    "bot.to_pyvis_network().show('nx.html')"
   ]
  },
  {
   "cell_type": "code",
   "execution_count": null,
   "metadata": {},
   "outputs": [],
   "source": []
  }
 ],
 "metadata": {
  "kernelspec": {
   "display_name": "Python 3 (ipykernel)",
   "language": "python",
   "name": "python3"
  },
  "language_info": {
   "codemirror_mode": {
    "name": "ipython",
    "version": 3
   },
   "file_extension": ".py",
   "mimetype": "text/x-python",
   "name": "python",
   "nbconvert_exporter": "python",
   "pygments_lexer": "ipython3",
   "version": "3.9.2"
  }
 },
 "nbformat": 4,
 "nbformat_minor": 4
}
