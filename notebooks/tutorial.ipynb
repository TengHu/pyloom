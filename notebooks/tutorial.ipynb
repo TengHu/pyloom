{
 "cells": [
  {
   "cell_type": "markdown",
   "metadata": {},
   "source": [
    "# Tutorial\n",
    "This notebook serves as an tutorial to exploring the features of Pyloom, using a basic agent as an example. \n",
    "Prior to using this notebook, please ensure that you have both OpenAI and PyLoom installed.\n",
    "\n",
    "```python\n",
    "pip install openai\n",
    "pip install pyloom\n",
    "```"
   ]
  },
  {
   "cell_type": "code",
   "execution_count": 1,
   "metadata": {},
   "outputs": [],
   "source": [
    "import copy\n",
    "import inspect\n",
    "import json\n",
    "import os\n",
    "import pdb\n",
    "import re\n",
    "import sys\n",
    "from typing import List\n",
    "\n",
    "# Pyloom\n",
    "import pyloom as pl\n",
    "\n",
    "import openai\n",
    "openai.api_key = os.getenv(\"OPENAI_API_KEY\")"
   ]
  },
  {
   "cell_type": "markdown",
   "metadata": {},
   "source": [
    "In this tutorial, we'll walk through the process of implementing a basic agent using the OpenAI library and then enhancing its functionality using Pyloom. Pyloom provides a powerful framework for tracking state of the agent and managing their states. It consists of three core components:\n",
    "\n",
    "- **Thread** : At the heart of Pyloom lies the Thread class. Agents inherit from this class to have access to state management capabilities. To initialize a Thread object, a constructor method, often denoted as ```__init__```, must be defined within the agent's class and decorated with ```event```. This method allows the agent to establish its initial state.\n",
    "\n",
    "- **SnapshotOnEvent** : Within the ```__init__``` method, Pyloom's SnapshotOnEvent decorator can be applied to instance variables that require tracking. When events are triggered, such variables are automatically captured in a snapshot, preserving their state at that moment. \n",
    "\n",
    "- **event** : By decorating methods with this decorator, the agent generates events every time the method is invoked."
   ]
  },
  {
   "cell_type": "code",
   "execution_count": 81,
   "metadata": {},
   "outputs": [],
   "source": [
    "class ChatBot(pl.Thread):\n",
    "    # Event decorator for initialization\n",
    "    @pl.event(\"Init\")\n",
    "    def __init__(self, system=\"\", model=\"gpt-3.5-turbo\"):\n",
    "        super().__init__()\n",
    "        self.system = system\n",
    "        self.messages = []\n",
    "        self.model = model\n",
    "        if self.system:\n",
    "            self.messages.append({\"role\": \"system\", \"content\": system})\n",
    "\n",
    "        # SnapshotOnEvent decorator to capture total tokens used\n",
    "        self.total_tokens = pl.SnapshotOnEvent(0)\n",
    "        \n",
    "        # SnapshotOnEvent decorator to capture changes in the messages list\n",
    "        self.messages = pl.SnapshotOnEvent(self.messages)\n",
    "\n",
    "    # Event decorator for user interaction\n",
    "    @pl.event(\"Call\")\n",
    "    def __call__(self, message):\n",
    "        self.messages.append({\"role\": \"user\", \"content\": message})\n",
    "\n",
    "        # Trigger the nested 'complete' event\n",
    "        return self.complete()\n",
    "\n",
    "    # Event decorator for generating a response\n",
    "    @pl.event(\"Complete\")\n",
    "    def complete(self):\n",
    "        completion = openai.ChatCompletion.create(\n",
    "            model=self.model,\n",
    "            messages=self.messages\n",
    "        )\n",
    "        content = completion.choices[0].message.content\n",
    "        self.total_tokens += completion.usage.total_tokens\n",
    "        self.messages.append({\"role\": \"assistant\", \"content\": content})\n",
    "        return content\n"
   ]
  },
  {
   "cell_type": "code",
   "execution_count": 151,
   "metadata": {},
   "outputs": [],
   "source": [
    "bot = ChatBot(\"We have 20 apples to start with.\")"
   ]
  },
  {
   "cell_type": "code",
   "execution_count": 155,
   "metadata": {},
   "outputs": [
    {
     "data": {
      "text/plain": [
       "'If you found 10 more apples in the orchard, we now have a total of 60 apples.'"
      ]
     },
     "execution_count": 155,
     "metadata": {},
     "output_type": "execute_result"
    }
   ],
   "source": [
    "bot(\"I found 10 more apples in the orchard, how many apples do we have now?\")"
   ]
  },
  {
   "cell_type": "code",
   "execution_count": 104,
   "metadata": {},
   "outputs": [
    {
     "data": {
      "text/plain": [
       "3"
      ]
     },
     "execution_count": 104,
     "metadata": {},
     "output_type": "execute_result"
    }
   ],
   "source": [
    "# Show all stand alone events that are needed to reconstruct to this point\n",
    "len(bot.events())"
   ]
  },
  {
   "cell_type": "code",
   "execution_count": 105,
   "metadata": {},
   "outputs": [
    {
     "data": {
      "text/plain": [
       "ThreadDecoratedEvent(event_name='Complete', event_args=(), event_kwargs={}, event_mutate_level=1)"
      ]
     },
     "execution_count": 105,
     "metadata": {},
     "output_type": "execute_result"
    }
   ],
   "source": [
    "bot.events()[-1]"
   ]
  },
  {
   "cell_type": "markdown",
   "metadata": {},
   "source": [
    "Internally, Pyloom employs a tree data structure ```bot.tree```to manage agent states, it maintains ```bot.tree.current``` pointing to the latest data within the tree. With each event triggered, a new node is generated within this tree, capturing a snapshot of the agent's state ```bot.tree.current.data```at the time of execution. Moreover, the data structure retains not only the agent's state but also the ```args``` and ```kwargs``` passed to the specific event and a ```context``` dictionary.\n",
    "\n",
    "In the realm of Pyloom's event hierarchy, an **event_mutate_level** of 0 signifies an event that stands alone without a parent event. When the **event_mutate_level** is 1, it represents a nested event triggered within another event. Delving deeper, an **event_mutate_level** of 2 indicates an event nested within another event that, in turn, was initiated within yet another event.\n",
    "\n",
    "This arrangement enables Pyloom to orchestrate complex event chains and maintain a detailed record of the events."
   ]
  },
  {
   "cell_type": "code",
   "execution_count": 106,
   "metadata": {},
   "outputs": [
    {
     "data": {
      "text/plain": [
       "62"
      ]
     },
     "execution_count": 106,
     "metadata": {},
     "output_type": "execute_result"
    }
   ],
   "source": [
    "# Use events to reconstruct agent from None, (0,) represents a stand alone event\n",
    "copy = None \n",
    "for event in bot.events((0,)):\n",
    "    copy = event.clone().mutate(copy)\n",
    "copy.total_tokens"
   ]
  },
  {
   "cell_type": "code",
   "execution_count": 107,
   "metadata": {},
   "outputs": [
    {
     "name": "stdout",
     "output_type": "stream",
     "text": [
      "Local cdn resources have problems on chrome/safari when used in jupyter-notebook. \n"
     ]
    },
    {
     "data": {
      "text/html": [
       "\n",
       "        <iframe\n",
       "            width=\"100%\"\n",
       "            height=\"600px\"\n",
       "            src=\"nx.html\"\n",
       "            frameborder=\"0\"\n",
       "            allowfullscreen\n",
       "            \n",
       "        ></iframe>\n",
       "        "
      ],
      "text/plain": [
       "<IPython.lib.display.IFrame at 0x10f724850>"
      ]
     },
     "execution_count": 107,
     "metadata": {},
     "output_type": "execute_result"
    }
   ],
   "source": [
    "# Visualize the entire flow, 0_Call represents a stands alone event(\"Call\"),  1_Complete represents a nested event(\"Complete\")\n",
    "copy.to_pyvis_network().show('nx.html')"
   ]
  },
  {
   "cell_type": "markdown",
   "metadata": {},
   "source": [
    "Each agent has **forward** and **rewind** to replay and navigate through the agent's flow."
   ]
  },
  {
   "cell_type": "code",
   "execution_count": 148,
   "metadata": {},
   "outputs": [
    {
     "data": {
      "text/plain": [
       "[{'role': 'system', 'content': 'We have 20 apples to start with.'},\n",
       " {'role': 'user',\n",
       "  'content': 'I found 10 more apples in the orchard, how many apples do we have now?'}]"
      ]
     },
     "execution_count": 148,
     "metadata": {},
     "output_type": "execute_result"
    }
   ],
   "source": [
    "bot.rewind(1) # Go back all the way to the root\n",
    "bot.messages"
   ]
  },
  {
   "cell_type": "code",
   "execution_count": 150,
   "metadata": {},
   "outputs": [
    {
     "data": {
      "text/plain": [
       "[ThreadDecoratedEvent(event_name='Complete', event_args=(), event_kwargs={}, event_mutate_level=1)]"
      ]
     },
     "execution_count": 150,
     "metadata": {},
     "output_type": "execute_result"
    }
   ],
   "source": [
    "# Show remain events after the current node\n",
    "bot.remain_events()"
   ]
  },
  {
   "cell_type": "code",
   "execution_count": 128,
   "metadata": {},
   "outputs": [
    {
     "name": "stdout",
     "output_type": "stream",
     "text": [
      "Local cdn resources have problems on chrome/safari when used in jupyter-notebook. \n"
     ]
    },
    {
     "data": {
      "text/html": [
       "\n",
       "        <iframe\n",
       "            width=\"100%\"\n",
       "            height=\"600px\"\n",
       "            src=\"nx.html\"\n",
       "            frameborder=\"0\"\n",
       "            allowfullscreen\n",
       "            \n",
       "        ></iframe>\n",
       "        "
      ],
      "text/plain": [
       "<IPython.lib.display.IFrame at 0x10f73d160>"
      ]
     },
     "execution_count": 128,
     "metadata": {},
     "output_type": "execute_result"
    }
   ],
   "source": [
    "# Visualize the entire flow, 0_Call represents a stands alone event(\"Call\"),  1_Complete represents a nested event(\"Complete\")\n",
    "bot.to_pyvis_network().show('nx.html')"
   ]
  },
  {
   "cell_type": "code",
   "execution_count": 129,
   "metadata": {},
   "outputs": [
    {
     "data": {
      "text/plain": [
       "[{'role': 'system', 'content': 'We have 20 apples to start with.'},\n",
       " {'role': 'user',\n",
       "  'content': 'I found 10 more apples in the orchard, how many apples do we have now?'},\n",
       " {'role': 'assistant',\n",
       "  'content': 'If you found 10 more apples in the orchard, we now have 20 + 10 = <<20+10=30>>30 apples in total.'}]"
      ]
     },
     "execution_count": 129,
     "metadata": {},
     "output_type": "execute_result"
    }
   ],
   "source": [
    "bot.forward(1) # go forward one step\n",
    "bot.messages"
   ]
  },
  {
   "cell_type": "code",
   "execution_count": 141,
   "metadata": {},
   "outputs": [
    {
     "name": "stdout",
     "output_type": "stream",
     "text": [
      "Local cdn resources have problems on chrome/safari when used in jupyter-notebook. \n"
     ]
    },
    {
     "data": {
      "text/html": [
       "\n",
       "        <iframe\n",
       "            width=\"100%\"\n",
       "            height=\"600px\"\n",
       "            src=\"nx.html\"\n",
       "            frameborder=\"0\"\n",
       "            allowfullscreen\n",
       "            \n",
       "        ></iframe>\n",
       "        "
      ],
      "text/plain": [
       "<IPython.lib.display.IFrame at 0x10e4538e0>"
      ]
     },
     "execution_count": 141,
     "metadata": {},
     "output_type": "execute_result"
    }
   ],
   "source": [
    "bot.forward() # go forward to the latest state\n",
    "bot.to_pyvis_network().show('nx.html')"
   ]
  },
  {
   "cell_type": "code",
   "execution_count": null,
   "metadata": {},
   "outputs": [],
   "source": [
    "bot.forward() # go forward to the \n",
    "bot.to_pyvis_network().show('nx.html')"
   ]
  },
  {
   "cell_type": "markdown",
   "metadata": {},
   "source": []
  },
  {
   "cell_type": "code",
   "execution_count": 181,
   "metadata": {},
   "outputs": [],
   "source": [
    "class MockAgent(pl.Thread):\n",
    "    @pl.event(\"Init\")\n",
    "    def __init__(self, system=\"\", model=\"gpt-3.5-turbo\"):\n",
    "        print (\"init...\")\n",
    "       \n",
    "    @pl.event(\"Call\")\n",
    "    def __call__(self, message):\n",
    "        print (\"call\")\n",
    "        self.complete()\n",
    "\n",
    "    @pl.event(\"Complete\")\n",
    "    def complete(self):\n",
    "        print (\"complete\")\n"
   ]
  },
  {
   "cell_type": "code",
   "execution_count": 182,
   "metadata": {},
   "outputs": [
    {
     "name": "stdout",
     "output_type": "stream",
     "text": [
      "init...\n",
      "call\n",
      "complete\n",
      "call\n",
      "complete\n",
      "call\n",
      "complete\n",
      "call\n",
      "complete\n"
     ]
    }
   ],
   "source": [
    "# Replaying same events on different agent with same event names\n",
    "\n",
    "copy = None\n",
    "\n",
    "events = bot.events((0,))\n",
    "\n",
    "# initialize a new\n",
    "copy = events[0].mutate(copy, thread_class = MockAgent)\n",
    "\n",
    "for event in events[1:]:\n",
    "    copy = event.mutate(copy)"
   ]
  },
  {
   "cell_type": "code",
   "execution_count": null,
   "metadata": {},
   "outputs": [],
   "source": []
  },
  {
   "cell_type": "code",
   "execution_count": null,
   "metadata": {},
   "outputs": [],
   "source": []
  },
  {
   "cell_type": "code",
   "execution_count": null,
   "metadata": {},
   "outputs": [],
   "source": []
  },
  {
   "cell_type": "code",
   "execution_count": null,
   "metadata": {},
   "outputs": [],
   "source": []
  }
 ],
 "metadata": {
  "kernelspec": {
   "display_name": "Python 3 (ipykernel)",
   "language": "python",
   "name": "python3"
  },
  "language_info": {
   "codemirror_mode": {
    "name": "ipython",
    "version": 3
   },
   "file_extension": ".py",
   "mimetype": "text/x-python",
   "name": "python",
   "nbconvert_exporter": "python",
   "pygments_lexer": "ipython3",
   "version": "3.9.2"
  }
 },
 "nbformat": 4,
 "nbformat_minor": 4
}
